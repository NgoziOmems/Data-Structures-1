{
 "cells": [
  {
   "cell_type": "code",
   "execution_count": 1,
   "id": "61e4598e",
   "metadata": {},
   "outputs": [
    {
     "data": {
      "text/plain": [
       "list"
      ]
     },
     "execution_count": 1,
     "metadata": {},
     "output_type": "execute_result"
    }
   ],
   "source": [
    "#Lists,Tuples,Dictionary,Set are the primary data structures\n",
    "\n",
    "#lISTS[]\n",
    "type([])"
   ]
  },
  {
   "cell_type": "code",
   "execution_count": 2,
   "id": "53a16b93",
   "metadata": {},
   "outputs": [],
   "source": [
    "#Creating a list\n",
    "fruit=['apple','banana']"
   ]
  },
  {
   "cell_type": "code",
   "execution_count": 3,
   "id": "adb9c9f2",
   "metadata": {},
   "outputs": [
    {
     "data": {
      "text/plain": [
       "['apple', 'banana']"
      ]
     },
     "execution_count": 3,
     "metadata": {},
     "output_type": "execute_result"
    }
   ],
   "source": [
    "fruit"
   ]
  },
  {
   "cell_type": "code",
   "execution_count": 4,
   "id": "1aaca869",
   "metadata": {},
   "outputs": [],
   "source": [
    "#To add items to the list\n",
    "#Method1:APPEND: This method adds one item at a time to the end of the list\n",
    "# variablename.append(item you want to add)       The append method takes one argument:the new item to be added\n",
    "#example to add cherry to the fruit list\n",
    "#List allows you to have multiple identical items ie repetition eg  banana,banana\n",
    "fruit.append('cherry')"
   ]
  },
  {
   "cell_type": "code",
   "execution_count": 5,
   "id": "3fa88dbb",
   "metadata": {},
   "outputs": [
    {
     "data": {
      "text/plain": [
       "['apple', 'banana', 'cherry']"
      ]
     },
     "execution_count": 5,
     "metadata": {},
     "output_type": "execute_result"
    }
   ],
   "source": [
    "fruit"
   ]
  },
  {
   "cell_type": "code",
   "execution_count": 7,
   "id": "39cfabea",
   "metadata": {},
   "outputs": [],
   "source": [
    "#Method2:INSERT: Allows you add item in other positions aside the end of the list\n",
    "#variablename.insert(position,\"new item\")   The insert method takes 2 arguments:index position and new item to be added\n",
    "fruit.insert(0,'mango')"
   ]
  },
  {
   "cell_type": "code",
   "execution_count": 8,
   "id": "97d31214",
   "metadata": {},
   "outputs": [
    {
     "data": {
      "text/plain": [
       "['mango', 'apple', 'banana', 'cherry']"
      ]
     },
     "execution_count": 8,
     "metadata": {},
     "output_type": "execute_result"
    }
   ],
   "source": [
    "fruit"
   ]
  },
  {
   "cell_type": "code",
   "execution_count": 9,
   "id": "e08ab7b5",
   "metadata": {},
   "outputs": [
    {
     "data": {
      "text/plain": [
       "'banana'"
      ]
     },
     "execution_count": 9,
     "metadata": {},
     "output_type": "execute_result"
    }
   ],
   "source": [
    "fruit[2]"
   ]
  },
  {
   "cell_type": "code",
   "execution_count": 10,
   "id": "4fce1c89",
   "metadata": {},
   "outputs": [
    {
     "data": {
      "text/plain": [
       "'cherry'"
      ]
     },
     "execution_count": 10,
     "metadata": {},
     "output_type": "execute_result"
    }
   ],
   "source": [
    "fruit[3]"
   ]
  },
  {
   "cell_type": "code",
   "execution_count": 12,
   "id": "a6d866c2",
   "metadata": {},
   "outputs": [
    {
     "data": {
      "text/plain": [
       "'apple'"
      ]
     },
     "execution_count": 12,
     "metadata": {},
     "output_type": "execute_result"
    }
   ],
   "source": [
    "fruit[-3]"
   ]
  },
  {
   "cell_type": "code",
   "execution_count": 14,
   "id": "913ba4b5",
   "metadata": {},
   "outputs": [],
   "source": [
    "fruit[2]='cashew'"
   ]
  },
  {
   "cell_type": "code",
   "execution_count": 15,
   "id": "3c9ba0ab",
   "metadata": {},
   "outputs": [
    {
     "data": {
      "text/plain": [
       "['mango', 'apple', 'cashew', 'cherry']"
      ]
     },
     "execution_count": 15,
     "metadata": {},
     "output_type": "execute_result"
    }
   ],
   "source": [
    "fruit"
   ]
  },
  {
   "cell_type": "code",
   "execution_count": 16,
   "id": "c70c703f",
   "metadata": {},
   "outputs": [
    {
     "data": {
      "text/plain": [
       "['mango', 'apple', 'cashew']"
      ]
     },
     "execution_count": 16,
     "metadata": {},
     "output_type": "execute_result"
    }
   ],
   "source": [
    "fruit[:3]"
   ]
  },
  {
   "cell_type": "code",
   "execution_count": 17,
   "id": "a8b5f1e0",
   "metadata": {},
   "outputs": [],
   "source": [
    "fruit[:2]=['orange','pear']     #the : symbol represents RANGE"
   ]
  },
  {
   "cell_type": "code",
   "execution_count": 18,
   "id": "09d6f178",
   "metadata": {},
   "outputs": [
    {
     "data": {
      "text/plain": [
       "['orange', 'pear', 'cashew', 'cherry']"
      ]
     },
     "execution_count": 18,
     "metadata": {},
     "output_type": "execute_result"
    }
   ],
   "source": [
    "fruit"
   ]
  },
  {
   "cell_type": "code",
   "execution_count": 19,
   "id": "2783fb0c",
   "metadata": {},
   "outputs": [
    {
     "data": {
      "text/plain": [
       "['orange', 'pear', 'cashew']"
      ]
     },
     "execution_count": 19,
     "metadata": {},
     "output_type": "execute_result"
    }
   ],
   "source": [
    "fruit[0:3]"
   ]
  },
  {
   "cell_type": "code",
   "execution_count": 20,
   "id": "2b492b88",
   "metadata": {},
   "outputs": [
    {
     "data": {
      "text/plain": [
       "['pear']"
      ]
     },
     "execution_count": 20,
     "metadata": {},
     "output_type": "execute_result"
    }
   ],
   "source": [
    "fruit[1:2]"
   ]
  },
  {
   "cell_type": "code",
   "execution_count": 21,
   "id": "130de2e0",
   "metadata": {},
   "outputs": [
    {
     "data": {
      "text/plain": [
       "['cashew', 'cherry']"
      ]
     },
     "execution_count": 21,
     "metadata": {},
     "output_type": "execute_result"
    }
   ],
   "source": [
    "fruit[-2:]"
   ]
  },
  {
   "cell_type": "code",
   "execution_count": 22,
   "id": "72d549c4",
   "metadata": {},
   "outputs": [
    {
     "data": {
      "text/plain": [
       "['orange']"
      ]
     },
     "execution_count": 22,
     "metadata": {},
     "output_type": "execute_result"
    }
   ],
   "source": [
    "fruit[:1]"
   ]
  },
  {
   "cell_type": "code",
   "execution_count": 23,
   "id": "250ddb8f",
   "metadata": {},
   "outputs": [
    {
     "data": {
      "text/plain": [
       "['pear', 'cashew', 'cherry']"
      ]
     },
     "execution_count": 23,
     "metadata": {},
     "output_type": "execute_result"
    }
   ],
   "source": [
    "fruit[1:]"
   ]
  },
  {
   "cell_type": "code",
   "execution_count": 24,
   "id": "298c4b3b",
   "metadata": {},
   "outputs": [
    {
     "data": {
      "text/plain": [
       "['orange', 'pear', 'cashew', 'cherry']"
      ]
     },
     "execution_count": 24,
     "metadata": {},
     "output_type": "execute_result"
    }
   ],
   "source": [
    "fruit"
   ]
  },
  {
   "cell_type": "code",
   "execution_count": 25,
   "id": "9f678470",
   "metadata": {},
   "outputs": [],
   "source": [
    "#Method3:EXTEND:Used to add multiple items at a time to the end of the list\n",
    "#variablename.extend(['items to be added'])\n",
    "fruit.extend(['pawpaw','watermelon'])"
   ]
  },
  {
   "cell_type": "code",
   "execution_count": 26,
   "id": "6a6f1922",
   "metadata": {},
   "outputs": [
    {
     "data": {
      "text/plain": [
       "['orange', 'pear', 'cashew', 'cherry', 'pawpaw', 'watermelon']"
      ]
     },
     "execution_count": 26,
     "metadata": {},
     "output_type": "execute_result"
    }
   ],
   "source": [
    "fruit"
   ]
  },
  {
   "cell_type": "code",
   "execution_count": 27,
   "id": "66a5b21c",
   "metadata": {},
   "outputs": [
    {
     "data": {
      "text/plain": [
       "'watermelon'"
      ]
     },
     "execution_count": 27,
     "metadata": {},
     "output_type": "execute_result"
    }
   ],
   "source": [
    "#To delete an item from a list, you can use either pop or \n",
    "#Pop Method willshow the last item on the list and then delete it.\n",
    "#variablename.pop()\n",
    "fruit.pop()"
   ]
  },
  {
   "cell_type": "code",
   "execution_count": 28,
   "id": "aec0d4d7",
   "metadata": {},
   "outputs": [
    {
     "data": {
      "text/plain": [
       "['orange', 'pear', 'cashew', 'cherry', 'pawpaw']"
      ]
     },
     "execution_count": 28,
     "metadata": {},
     "output_type": "execute_result"
    }
   ],
   "source": [
    "fruit"
   ]
  },
  {
   "cell_type": "code",
   "execution_count": 29,
   "id": "cee8da65",
   "metadata": {},
   "outputs": [],
   "source": [
    "#Remove method is used to delete an item that is not the last item on the list\n",
    "#variablename.remove('name of item to be removed')\n",
    "fruit.remove('pear')"
   ]
  },
  {
   "cell_type": "code",
   "execution_count": 30,
   "id": "406d8e24",
   "metadata": {},
   "outputs": [
    {
     "data": {
      "text/plain": [
       "['orange', 'cashew', 'cherry', 'pawpaw']"
      ]
     },
     "execution_count": 30,
     "metadata": {},
     "output_type": "execute_result"
    }
   ],
   "source": [
    "fruit"
   ]
  },
  {
   "cell_type": "code",
   "execution_count": 3,
   "id": "af8890ee",
   "metadata": {},
   "outputs": [],
   "source": [
    "#Clear method is used to delete all the items in a list\n",
    "#example fruit.clear will delete all the contents of the fruit list\n",
    "#Sort Method rearranges our list alphabetically for strings and numerically for integers.\n",
    "fruit=['orange','cashew','cherry','pawpaw']"
   ]
  },
  {
   "cell_type": "code",
   "execution_count": 4,
   "id": "78b024f3",
   "metadata": {},
   "outputs": [
    {
     "data": {
      "text/plain": [
       "['orange', 'cashew', 'cherry', 'pawpaw']"
      ]
     },
     "execution_count": 4,
     "metadata": {},
     "output_type": "execute_result"
    }
   ],
   "source": [
    "fruit"
   ]
  },
  {
   "cell_type": "code",
   "execution_count": 5,
   "id": "3f968478",
   "metadata": {},
   "outputs": [],
   "source": [
    "fruit.sort()"
   ]
  },
  {
   "cell_type": "code",
   "execution_count": 6,
   "id": "bc856fd3",
   "metadata": {},
   "outputs": [
    {
     "data": {
      "text/plain": [
       "['cashew', 'cherry', 'orange', 'pawpaw']"
      ]
     },
     "execution_count": 6,
     "metadata": {},
     "output_type": "execute_result"
    }
   ],
   "source": [
    "fruit"
   ]
  },
  {
   "cell_type": "code",
   "execution_count": 7,
   "id": "a869b9f7",
   "metadata": {},
   "outputs": [],
   "source": [
    "#Reverse method reverses the arrangement of items on the list\n",
    "fruit.reverse()"
   ]
  },
  {
   "cell_type": "code",
   "execution_count": 8,
   "id": "222ddfb5",
   "metadata": {},
   "outputs": [
    {
     "data": {
      "text/plain": [
       "['pawpaw', 'orange', 'cherry', 'cashew']"
      ]
     },
     "execution_count": 8,
     "metadata": {},
     "output_type": "execute_result"
    }
   ],
   "source": [
    "fruit"
   ]
  },
  {
   "cell_type": "code",
   "execution_count": 9,
   "id": "8c2c600b",
   "metadata": {},
   "outputs": [],
   "source": [
    "#Copy method copies the values/items in a list to another variable/list example\n",
    "d=fruit.copy()"
   ]
  },
  {
   "cell_type": "code",
   "execution_count": 10,
   "id": "94a6a6ca",
   "metadata": {},
   "outputs": [
    {
     "data": {
      "text/plain": [
       "['pawpaw', 'orange', 'cherry', 'cashew']"
      ]
     },
     "execution_count": 10,
     "metadata": {},
     "output_type": "execute_result"
    }
   ],
   "source": [
    "d"
   ]
  },
  {
   "cell_type": "code",
   "execution_count": 11,
   "id": "a3a97c9d",
   "metadata": {},
   "outputs": [
    {
     "data": {
      "text/plain": [
       "['pawpaw', 'orange', 'cherry', 'cashew']"
      ]
     },
     "execution_count": 11,
     "metadata": {},
     "output_type": "execute_result"
    }
   ],
   "source": [
    "fruit"
   ]
  },
  {
   "cell_type": "code",
   "execution_count": null,
   "id": "71feaf24",
   "metadata": {},
   "outputs": [],
   "source": []
  }
 ],
 "metadata": {
  "kernelspec": {
   "display_name": "Python 3 (ipykernel)",
   "language": "python",
   "name": "python3"
  },
  "language_info": {
   "codemirror_mode": {
    "name": "ipython",
    "version": 3
   },
   "file_extension": ".py",
   "mimetype": "text/x-python",
   "name": "python",
   "nbconvert_exporter": "python",
   "pygments_lexer": "ipython3",
   "version": "3.11.5"
  }
 },
 "nbformat": 4,
 "nbformat_minor": 5
}
