{
 "cells": [
  {
   "cell_type": "code",
   "execution_count": 1,
   "id": "a44dcdad",
   "metadata": {},
   "outputs": [],
   "source": [
    "#LISTS OF LISTS\n",
    "#A list that is housed inside another list,aka nested list\n",
    "d=[['cow','dog','goat'],['apple','grapes','kiwi'],['spinach','kale','brocolli']]"
   ]
  },
  {
   "cell_type": "code",
   "execution_count": 2,
   "id": "776ae43d",
   "metadata": {},
   "outputs": [
    {
     "data": {
      "text/plain": [
       "[['cow', 'dog', 'goat'],\n",
       " ['apple', 'grapes', 'kiwi'],\n",
       " ['spinach', 'kale', 'brocolli']]"
      ]
     },
     "execution_count": 2,
     "metadata": {},
     "output_type": "execute_result"
    }
   ],
   "source": [
    "d"
   ]
  },
  {
   "cell_type": "code",
   "execution_count": 3,
   "id": "5162e373",
   "metadata": {},
   "outputs": [
    {
     "data": {
      "text/plain": [
       "['cow', 'dog', 'goat']"
      ]
     },
     "execution_count": 3,
     "metadata": {},
     "output_type": "execute_result"
    }
   ],
   "source": [
    "#there are 3 lists nested inside the d list.Each list will be assigned an index number starting from 0,like in the normal list.\n",
    "d[0]"
   ]
  },
  {
   "cell_type": "code",
   "execution_count": 4,
   "id": "35278120",
   "metadata": {},
   "outputs": [
    {
     "data": {
      "text/plain": [
       "['apple', 'grapes', 'kiwi']"
      ]
     },
     "execution_count": 4,
     "metadata": {},
     "output_type": "execute_result"
    }
   ],
   "source": [
    "d[1]"
   ]
  },
  {
   "cell_type": "code",
   "execution_count": 5,
   "id": "bfbff8bb",
   "metadata": {},
   "outputs": [
    {
     "data": {
      "text/plain": [
       "['spinach', 'kale', 'brocolli']"
      ]
     },
     "execution_count": 5,
     "metadata": {},
     "output_type": "execute_result"
    }
   ],
   "source": [
    "d[2]"
   ]
  },
  {
   "cell_type": "code",
   "execution_count": 6,
   "id": "877f093b",
   "metadata": {},
   "outputs": [
    {
     "data": {
      "text/plain": [
       "'kale'"
      ]
     },
     "execution_count": 6,
     "metadata": {},
     "output_type": "execute_result"
    }
   ],
   "source": [
    "#To access an item inside one of the nested lists, \n",
    "#We use the index number of the list and the index number of the item inside the list e.g\n",
    "d[2][1]"
   ]
  },
  {
   "cell_type": "code",
   "execution_count": 7,
   "id": "bdd1dabd",
   "metadata": {},
   "outputs": [
    {
     "data": {
      "text/plain": [
       "'apple'"
      ]
     },
     "execution_count": 7,
     "metadata": {},
     "output_type": "execute_result"
    }
   ],
   "source": [
    "d[1][0]"
   ]
  },
  {
   "cell_type": "code",
   "execution_count": 8,
   "id": "5a5bd903",
   "metadata": {},
   "outputs": [
    {
     "data": {
      "text/plain": [
       "'goat'"
      ]
     },
     "execution_count": 8,
     "metadata": {},
     "output_type": "execute_result"
    }
   ],
   "source": [
    "d[0][2]"
   ]
  },
  {
   "cell_type": "code",
   "execution_count": 9,
   "id": "a610c424",
   "metadata": {},
   "outputs": [],
   "source": [
    "#You can also assign the individual nested lists to a separate variable and combine them to get the same compound list i.e\n",
    "a=['cow','dog','goat']\n",
    "b=['apple','grapes','kiwi']\n",
    "c=['spinach','kale','brocolli']"
   ]
  },
  {
   "cell_type": "code",
   "execution_count": 10,
   "id": "6f62984f",
   "metadata": {},
   "outputs": [],
   "source": [
    "d=[a,b,c]"
   ]
  },
  {
   "cell_type": "code",
   "execution_count": 11,
   "id": "d6fc75e8",
   "metadata": {},
   "outputs": [
    {
     "data": {
      "text/plain": [
       "[['cow', 'dog', 'goat'],\n",
       " ['apple', 'grapes', 'kiwi'],\n",
       " ['spinach', 'kale', 'brocolli']]"
      ]
     },
     "execution_count": 11,
     "metadata": {},
     "output_type": "execute_result"
    }
   ],
   "source": [
    "d"
   ]
  },
  {
   "cell_type": "code",
   "execution_count": 23,
   "id": "e931e41e",
   "metadata": {},
   "outputs": [],
   "source": [
    "\n",
    "                                             #TUPLES\n",
    "    \n",
    "#Tuples are immutable and their contents cannot be changed after they are created.They make use of parenthesis()\n",
    "#They are used for small collections of values that would not need to change or be tampered with\n",
    "animals=('cow','goat','sheep','fox','chicken','goat','fish')"
   ]
  },
  {
   "cell_type": "code",
   "execution_count": 24,
   "id": "d20574f3",
   "metadata": {},
   "outputs": [
    {
     "data": {
      "text/plain": [
       "('cow', 'goat', 'sheep', 'fox', 'chicken', 'goat', 'fish')"
      ]
     },
     "execution_count": 24,
     "metadata": {},
     "output_type": "execute_result"
    }
   ],
   "source": [
    "animals"
   ]
  },
  {
   "cell_type": "code",
   "execution_count": 25,
   "id": "1a12b3d4",
   "metadata": {},
   "outputs": [
    {
     "ename": "TypeError",
     "evalue": "'tuple' object is not callable",
     "output_type": "error",
     "traceback": [
      "\u001b[1;31m---------------------------------------------------------------------------\u001b[0m",
      "\u001b[1;31mTypeError\u001b[0m                                 Traceback (most recent call last)",
      "Cell \u001b[1;32mIn[25], line 2\u001b[0m\n\u001b[0;32m      1\u001b[0m \u001b[38;5;66;03m#tuples,just like lists,allow for repetition of items. They are also not callable\u001b[39;00m\n\u001b[1;32m----> 2\u001b[0m animals(\u001b[38;5;241m2\u001b[39m)\n",
      "\u001b[1;31mTypeError\u001b[0m: 'tuple' object is not callable"
     ]
    }
   ],
   "source": [
    "#tuples,just like lists,allow for repetition of items. They are also not callable e.g\n",
    "animals(2)"
   ]
  },
  {
   "cell_type": "code",
   "execution_count": 26,
   "id": "00291f73",
   "metadata": {},
   "outputs": [
    {
     "data": {
      "text/plain": [
       "2"
      ]
     },
     "execution_count": 26,
     "metadata": {},
     "output_type": "execute_result"
    }
   ],
   "source": [
    "#Tuples have 2 major methods:COUNT AND INDEX\n",
    "#Count returns the frequency or occurence of an item in a tuple \n",
    "animals.count('goat')"
   ]
  },
  {
   "cell_type": "code",
   "execution_count": 27,
   "id": "b2d0463c",
   "metadata": {},
   "outputs": [
    {
     "data": {
      "text/plain": [
       "1"
      ]
     },
     "execution_count": 27,
     "metadata": {},
     "output_type": "execute_result"
    }
   ],
   "source": [
    "animals.count('fish')"
   ]
  },
  {
   "cell_type": "code",
   "execution_count": 28,
   "id": "786a3aae",
   "metadata": {},
   "outputs": [
    {
     "data": {
      "text/plain": [
       "1"
      ]
     },
     "execution_count": 28,
     "metadata": {},
     "output_type": "execute_result"
    }
   ],
   "source": [
    "#Index returns the position of an item in a tuple\n",
    "#Where an item appears more than once in different positions, python will take the position closest to index 0(zero)\n",
    "animals.index('goat')"
   ]
  },
  {
   "cell_type": "code",
   "execution_count": 29,
   "id": "c969997e",
   "metadata": {},
   "outputs": [
    {
     "data": {
      "text/plain": [
       "4"
      ]
     },
     "execution_count": 29,
     "metadata": {},
     "output_type": "execute_result"
    }
   ],
   "source": [
    "animals.index('chicken')"
   ]
  },
  {
   "cell_type": "code",
   "execution_count": 30,
   "id": "bb9fb652",
   "metadata": {},
   "outputs": [
    {
     "data": {
      "text/plain": [
       "<function tuple.index(value, start=0, stop=9223372036854775807, /)>"
      ]
     },
     "execution_count": 30,
     "metadata": {},
     "output_type": "execute_result"
    }
   ],
   "source": [
    "#The argument for index is"
   ]
  },
  {
   "cell_type": "code",
   "execution_count": 34,
   "id": "51e7d5d5",
   "metadata": {},
   "outputs": [
    {
     "data": {
      "text/plain": [
       "1"
      ]
     },
     "execution_count": 34,
     "metadata": {},
     "output_type": "execute_result"
    }
   ],
   "source": [
    "animals.index('goat',1)"
   ]
  },
  {
   "cell_type": "code",
   "execution_count": 35,
   "id": "fb6aa244",
   "metadata": {},
   "outputs": [
    {
     "data": {
      "text/plain": [
       "5"
      ]
     },
     "execution_count": 35,
     "metadata": {},
     "output_type": "execute_result"
    }
   ],
   "source": [
    "animals.index('goat',2)"
   ]
  },
  {
   "cell_type": "code",
   "execution_count": 41,
   "id": "6462de76",
   "metadata": {},
   "outputs": [],
   "source": [
    "                                             \n",
    "                                              #SETS\n",
    "        \n",
    "#A collection of unordered items whose values can be changed and does not allow for duplication/repetition of items.\n",
    "#Sets are denoted by curly braces {} and usually arranges the items in ascending order for strings or numerically for integers\n",
    "a={'rice','yam','beans','spaghetti','garri','yam','bread','salad'}"
   ]
  },
  {
   "cell_type": "code",
   "execution_count": 42,
   "id": "777aeafe",
   "metadata": {},
   "outputs": [
    {
     "data": {
      "text/plain": [
       "{'beans', 'bread', 'garri', 'rice', 'salad', 'spaghetti', 'yam'}"
      ]
     },
     "execution_count": 42,
     "metadata": {},
     "output_type": "execute_result"
    }
   ],
   "source": [
    "a"
   ]
  },
  {
   "cell_type": "code",
   "execution_count": 43,
   "id": "ef748a8e",
   "metadata": {},
   "outputs": [
    {
     "data": {
      "text/plain": [
       "set"
      ]
     },
     "execution_count": 43,
     "metadata": {},
     "output_type": "execute_result"
    }
   ],
   "source": [
    "type(a)"
   ]
  },
  {
   "cell_type": "code",
   "execution_count": 45,
   "id": "9c0a4376",
   "metadata": {},
   "outputs": [],
   "source": [
    "                                             #DICTIONARIES\n",
    "#Dictionaries are data structures that allow us store information in key-value pairs\n",
    "#Dictionaries hardly work with 'for loop'\n",
    "#To create a dictionary named dataset\n",
    "dataset={'Name':'Ngozi','Age':28,'Username':'Ngozika','Password':'ngoziomems2024','Program':'Data Science'}"
   ]
  },
  {
   "cell_type": "code",
   "execution_count": 46,
   "id": "02a436d4",
   "metadata": {},
   "outputs": [
    {
     "data": {
      "text/plain": [
       "{'Name': 'Ngozi',\n",
       " 'Age': 28,\n",
       " 'Username': 'Ngozika',\n",
       " 'Password': 'ngoziomems2024',\n",
       " 'Program': 'Data Science'}"
      ]
     },
     "execution_count": 46,
     "metadata": {},
     "output_type": "execute_result"
    }
   ],
   "source": [
    "dataset"
   ]
  },
  {
   "cell_type": "code",
   "execution_count": 80,
   "id": "772fb6cb",
   "metadata": {},
   "outputs": [
    {
     "data": {
      "text/plain": [
       "'Ngozi'"
      ]
     },
     "execution_count": 80,
     "metadata": {},
     "output_type": "execute_result"
    }
   ],
   "source": [
    "#To outline the values assigned to each key, we use the keys to call them.The syntax is dictionaryname[key]\n",
    "dataset['Name']"
   ]
  },
  {
   "cell_type": "code",
   "execution_count": 81,
   "id": "2d4e0754",
   "metadata": {},
   "outputs": [
    {
     "data": {
      "text/plain": [
       "28"
      ]
     },
     "execution_count": 81,
     "metadata": {},
     "output_type": "execute_result"
    }
   ],
   "source": [
    "dataset['Age']"
   ]
  },
  {
   "cell_type": "code",
   "execution_count": 82,
   "id": "033a3b67",
   "metadata": {},
   "outputs": [
    {
     "data": {
      "text/plain": [
       "'Ngozika'"
      ]
     },
     "execution_count": 82,
     "metadata": {},
     "output_type": "execute_result"
    }
   ],
   "source": [
    "dataset['Username']"
   ]
  },
  {
   "cell_type": "code",
   "execution_count": 83,
   "id": "b0136071",
   "metadata": {},
   "outputs": [
    {
     "data": {
      "text/plain": [
       "'Data Science'"
      ]
     },
     "execution_count": 83,
     "metadata": {},
     "output_type": "execute_result"
    }
   ],
   "source": [
    "dataset['Program']"
   ]
  },
  {
   "cell_type": "code",
   "execution_count": 52,
   "id": "313ebbbd",
   "metadata": {},
   "outputs": [
    {
     "data": {
      "text/plain": [
       "dict_keys(['Name', 'Age', 'Username', 'Password', 'Program'])"
      ]
     },
     "execution_count": 52,
     "metadata": {},
     "output_type": "execute_result"
    }
   ],
   "source": [
    "#METHODS IN DICTIONARIES\n",
    "#1.KEY METHOD:Gets all the keys in a dictionary, the syntax is dictionaryname.keys() and it takes no argument\n",
    "\n",
    "dataset.keys()"
   ]
  },
  {
   "cell_type": "code",
   "execution_count": 54,
   "id": "b6b9195a",
   "metadata": {},
   "outputs": [
    {
     "data": {
      "text/plain": [
       "dict_values(['Ngozi', 28, 'Ngozika', 'ngoziomems2024', 'Data Science'])"
      ]
     },
     "execution_count": 54,
     "metadata": {},
     "output_type": "execute_result"
    }
   ],
   "source": [
    "#VALUE METHOD: Returns all the values attributed to each index, syntax is dictionaryname.values(), also takes no argument\n",
    "dataset.values()"
   ]
  },
  {
   "cell_type": "code",
   "execution_count": 56,
   "id": "58c6ca25",
   "metadata": {},
   "outputs": [
    {
     "data": {
      "text/plain": [
       "dict_items([('Name', 'Ngozi'), ('Age', 28), ('Username', 'Ngozika'), ('Password', 'ngoziomems2024'), ('Program', 'Data Science')])"
      ]
     },
     "execution_count": 56,
     "metadata": {},
     "output_type": "execute_result"
    }
   ],
   "source": [
    "#ITEMS METHOD: Returns all the key-value pairs in the dictionary\n",
    "dataset.items()"
   ]
  },
  {
   "cell_type": "code",
   "execution_count": 63,
   "id": "8576369f",
   "metadata": {},
   "outputs": [
    {
     "data": {
      "text/plain": [
       "'ngoziomems2024'"
      ]
     },
     "execution_count": 63,
     "metadata": {},
     "output_type": "execute_result"
    }
   ],
   "source": [
    "#GET METHOD:Uses a particular key to return its corresponding value,the syntax is dictionaryname.get(key)\n",
    "dataset.get('Password')"
   ]
  },
  {
   "cell_type": "code",
   "execution_count": 64,
   "id": "2b3d7ea6",
   "metadata": {},
   "outputs": [
    {
     "data": {
      "text/plain": [
       "'Data Science'"
      ]
     },
     "execution_count": 64,
     "metadata": {},
     "output_type": "execute_result"
    }
   ],
   "source": [
    "dataset.get('Program')"
   ]
  },
  {
   "cell_type": "code",
   "execution_count": 65,
   "id": "d819c73f",
   "metadata": {},
   "outputs": [
    {
     "data": {
      "text/plain": [
       "'Ngozi'"
      ]
     },
     "execution_count": 65,
     "metadata": {},
     "output_type": "execute_result"
    }
   ],
   "source": [
    "dataset.get('Name')"
   ]
  },
  {
   "cell_type": "code",
   "execution_count": 75,
   "id": "402a2a2a",
   "metadata": {},
   "outputs": [
    {
     "data": {
      "text/plain": [
       "'ngoziomems2024'"
      ]
     },
     "execution_count": 75,
     "metadata": {},
     "output_type": "execute_result"
    }
   ],
   "source": [
    "#POP METHOD:removes a specified key-value pair. The syntax is dictionaryname.pop(key to be deleted)\n",
    "#To delete the Password:ngoziomems2024 pair\n",
    "dataset.pop('Password')"
   ]
  },
  {
   "cell_type": "code",
   "execution_count": 76,
   "id": "562bc492",
   "metadata": {},
   "outputs": [
    {
     "data": {
      "text/plain": [
       "{'Name': 'Ngozi', 'Age': 28, 'Username': 'Ngozika', 'Program': 'Data Science'}"
      ]
     },
     "execution_count": 76,
     "metadata": {},
     "output_type": "execute_result"
    }
   ],
   "source": [
    "dataset"
   ]
  },
  {
   "cell_type": "code",
   "execution_count": 77,
   "id": "b5f38e39",
   "metadata": {},
   "outputs": [
    {
     "data": {
      "text/plain": [
       "<function dict.copy>"
      ]
     },
     "execution_count": 77,
     "metadata": {},
     "output_type": "execute_result"
    }
   ],
   "source": [
    "dataset.copy"
   ]
  },
  {
   "cell_type": "code",
   "execution_count": 3,
   "id": "2d795dce",
   "metadata": {},
   "outputs": [],
   "source": [
    "#To create a program that prompts a user for login credentials: username and password. \n",
    "#The login will only be successful if the login credentials are correct\n",
    "#Using a dictionary structure\n",
    "credentials={'Username':['Ngozi','Uchenna','Zane'],'Password':['Ngbaby1234','UC2024!','ziZZU@2021']}"
   ]
  },
  {
   "cell_type": "code",
   "execution_count": 4,
   "id": "be547c5b",
   "metadata": {},
   "outputs": [
    {
     "data": {
      "text/plain": [
       "{'Username': ['Ngozi', 'Uchenna', 'Zane'],\n",
       " 'Password': ['Ngbaby1234', 'UC2024!', 'ziZZU@2021']}"
      ]
     },
     "execution_count": 4,
     "metadata": {},
     "output_type": "execute_result"
    }
   ],
   "source": [
    "credentials"
   ]
  },
  {
   "cell_type": "code",
   "execution_count": 7,
   "id": "324955be",
   "metadata": {},
   "outputs": [
    {
     "name": "stdout",
     "output_type": "stream",
     "text": [
      "Hello, please enter your username: Ngozi\n",
      "Enter your password: Ngbaby1234\n",
      "Welcome Ngozi, your login was successful!\n"
     ]
    }
   ],
   "source": [
    "username=input(f'Hello, please enter your username: ')\n",
    "password=input(f'Enter your password: ')\n",
    "if username in credentials['Username'] and password in credentials['Password']:\n",
    "    print(f'Welcome {username}, your login was successful!')\n",
    "else:\n",
    "    print(f'Dear {username}, your credentials are incorrect, please try again!')"
   ]
  }
 ],
 "metadata": {
  "kernelspec": {
   "display_name": "Python 3 (ipykernel)",
   "language": "python",
   "name": "python3"
  },
  "language_info": {
   "codemirror_mode": {
    "name": "ipython",
    "version": 3
   },
   "file_extension": ".py",
   "mimetype": "text/x-python",
   "name": "python",
   "nbconvert_exporter": "python",
   "pygments_lexer": "ipython3",
   "version": "3.11.5"
  }
 },
 "nbformat": 4,
 "nbformat_minor": 5
}
